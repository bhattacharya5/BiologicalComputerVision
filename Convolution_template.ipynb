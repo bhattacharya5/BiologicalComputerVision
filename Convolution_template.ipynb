{
  "nbformat": 4,
  "nbformat_minor": 0,
  "metadata": {
    "colab": {
      "provenance": [],
      "include_colab_link": true
    },
    "kernelspec": {
      "name": "python3",
      "display_name": "Python 3"
    },
    "language_info": {
      "name": "python"
    }
  },
  "cells": [
    {
      "cell_type": "markdown",
      "metadata": {
        "id": "view-in-github",
        "colab_type": "text"
      },
      "source": [
        "<a href=\"https://colab.research.google.com/github/bhattacharya5/BiologicalComputerVision/blob/main/Convolution_template.ipynb\" target=\"_parent\"><img src=\"https://colab.research.google.com/assets/colab-badge.svg\" alt=\"Open In Colab\"/></a>"
      ]
    },
    {
      "cell_type": "code",
      "execution_count": null,
      "metadata": {
        "colab": {
          "base_uri": "https://localhost:8080/"
        },
        "id": "Uk0L1NBMsgLH",
        "outputId": "f67c6628-9bee-44a5-b2f1-84906f44ed7c"
      },
      "outputs": [
        {
          "output_type": "stream",
          "name": "stdout",
          "text": [
            "Environment set\n"
          ]
        }
      ],
      "source": [
        "# Import NumPy for array/matrix operations, and matplotlib.pyplot for plotting/drwing image\n",
        "import numpy as np\n",
        "import matplotlib.pyplot as plt\n",
        "\n",
        "print( \"Environment set\")"
      ]
    },
    {
      "cell_type": "code",
      "source": [
        "# Create a chess-board image\n",
        "\n",
        "height=1024 # Image dimensions\n",
        "width =1024\n",
        "\n",
        "chessboard = np.zeros((height, width), dtype=np.uint8) # Initialize with zeroes (black)\n",
        "\n",
        "\n",
        "for i in range(0,height):\n",
        "  for j in range(0, width):\n",
        "      if(((i%256 < 128 ) and (j%256 < 128)) or ((i%256 >= 128 ) and (j%256 >= 128))) :\n",
        "        chessboard[i,j] = 255   # Make it white\n",
        "\n",
        "# Show the image\n",
        "fig = plt.figure() # use default display size\n",
        "plt.imshow(chessboard, cmap=\"gray\")\n",
        "\n"
      ],
      "metadata": {
        "colab": {
          "base_uri": "https://localhost:8080/",
          "height": 286
        },
        "id": "3sx4fYTdswQQ",
        "outputId": "cd6a74c6-3db9-4106-e66d-0344132d496c"
      },
      "execution_count": null,
      "outputs": [
        {
          "output_type": "execute_result",
          "data": {
            "text/plain": [
              "<matplotlib.image.AxesImage at 0x7fbf98e48590>"
            ]
          },
          "metadata": {},
          "execution_count": 4
        },
        {
          "output_type": "display_data",
          "data": {
            "text/plain": [
              "<Figure size 432x288 with 1 Axes>"
            ],
            "image/png": "[encoded data removed]"
          },
          "metadata": {
            "needs_background": "light"
          }
        }
      ]
    },
    {
      "cell_type": "code",
      "source": [
        "# Define horizontal and vertical Sobel filters\n",
        "\n",
        "filter_h = np.array()  # You need to fill in the array\n",
        "filter_v = np.array()  # You need to fill in the array\n",
        "\n",
        "print(\"filter_h = \", filter_h)\n",
        "print(\"filter_v = \", filter_v)"
      ],
      "metadata": {
        "id": "rdFzqkyGvVtM"
      },
      "execution_count": null,
      "outputs": []
    },
    {
      "cell_type": "code",
      "source": [
        "# Use your own convolution function -- do not use any library function\n",
        "# Convolve with filter_h\n",
        "\n",
        "conv_image_h = my2Dconvolution(filter_h, chessboard)\n",
        "\n",
        "# Show convoluted image\n",
        "fig = plt.figure() # use default display size\n",
        "plt.imshow(conv_image_h, cmap=\"gray\")"
      ],
      "metadata": {
        "id": "Ospww4h_0PI3"
      },
      "execution_count": null,
      "outputs": []
    },
    {
      "cell_type": "code",
      "source": [
        "# Use your own convolution function -- do not use any library function\n",
        "# Convolve with filter_v\n",
        "\n",
        "conv_image_v = my2Dconvolution(filter_v, chessboard)\n",
        "\n",
        "# Show convoluted image\n",
        "fig = plt.figure() # use default display size\n",
        "plt.imshow(conv_image_v, cmap=\"gray\")"
      ],
      "metadata": {
        "id": "2lQgZZssWEjn"
      },
      "execution_count": null,
      "outputs": []
    },
    {
      "cell_type": "code",
      "source": [
        "# define 2D convolution function\n",
        "def my2Dconvolution(filter, image):\n",
        "\n",
        "  # You need to write your own convolution code\n",
        "  # Do not use any library\n",
        "\n",
        "  return ...\n"
      ],
      "metadata": {
        "id": "RbLS2EoDyMEe"
      },
      "execution_count": null,
      "outputs": []
    }
  ]
}