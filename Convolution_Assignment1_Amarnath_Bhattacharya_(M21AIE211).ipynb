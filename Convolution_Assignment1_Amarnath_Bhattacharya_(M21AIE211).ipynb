{
  "nbformat": 4,
  "nbformat_minor": 0,
  "metadata": {
    "colab": {
      "name": "Convolution_Assignment1_Amarnath Bhattacharya (M21AIE211)",
      "provenance": [],
      "collapsed_sections": [],
      "include_colab_link": true
    },
    "kernelspec": {
      "name": "python3",
      "display_name": "Python 3"
    },
    "language_info": {
      "name": "python"
    }
  },
  "cells": [
    {
      "cell_type": "markdown",
      "metadata": {
        "id": "view-in-github",
        "colab_type": "text"
      },
      "source": [
        "<a href=\"https://colab.research.google.com/github/bhattacharya5/BiologicalComputerVision/blob/main/Convolution_Assignment1_Amarnath_Bhattacharya_(M21AIE211).ipynb\" target=\"_parent\"><img src=\"https://colab.research.google.com/assets/colab-badge.svg\" alt=\"Open In Colab\"/></a>"
      ]
    },
    {
      "cell_type": "code",
      "execution_count": 2,
      "metadata": {
        "colab": {
          "base_uri": "https://localhost:8080/"
        },
        "id": "Uk0L1NBMsgLH",
        "outputId": "bdb73114-18a4-4009-b82f-b748dc785f4c"
      },
      "outputs": [
        {
          "output_type": "stream",
          "name": "stdout",
          "text": [
            "Environment set\n"
          ]
        }
      ],
      "source": [
        "# Import NumPy for array/matrix operations, and matplotlib.pyplot for plotting/drwing image\n",
        "import numpy as np\n",
        "import matplotlib.pyplot as plt\n",
        "\n",
        "#Magic command to execute multiple instructions on single line\n",
        "from IPython.core.interactiveshell import InteractiveShell\n",
        "InteractiveShell.ast_node_interactivity = \"all\"\n",
        "\n",
        "print( \"Environment set\")"
      ]
    },
    {
      "cell_type": "code",
      "source": [
        "# Create a chess-board image\n",
        "\n",
        "height=1024 # Image dimensions\n",
        "width =1024\n",
        "\n",
        "chessboard = np.zeros((height, width), dtype=np.uint8) # Initialize with zeroes (black)\n",
        "\n",
        "\n",
        "for i in range(0,height):\n",
        "  for j in range(0, width):\n",
        "      if(((i%256 < 128 ) and (j%256 < 128)) or ((i%256 >= 128 ) and (j%256 >= 128))) :\n",
        "        chessboard[i,j] = 255   # Make it white\n",
        "\n",
        "# Show the image\n",
        "fig = plt.figure() # use default display size\n",
        "plt.imshow(chessboard, cmap=\"gray\")\n",
        "\n"
      ],
      "metadata": {
        "colab": {
          "base_uri": "https://localhost:8080/",
          "height": 286
        },
        "id": "3sx4fYTdswQQ",
        "outputId": "8ab24cbe-ee32-44ec-c5ba-90c6ad7b8f9b"
      },
      "execution_count": 3,
      "outputs": [
        {
          "output_type": "execute_result",
          "data": {
            "text/plain": [
              "<matplotlib.image.AxesImage at 0x7f4d1c4718d0>"
            ]
          },
          "metadata": {},
          "execution_count": 3
        },
        {
          "output_type": "display_data",
          "data": {
            "text/plain": [
              "<Figure size 432x288 with 1 Axes>"
            ],
            "image/png": "[encoded data removed]"
          },
          "metadata": {
            "needs_background": "light"
          }
        }
      ]
    },
    {
      "cell_type": "code",
      "source": [
        "chessboard[1]\n",
        "print()\n",
        "\n",
        "num_rows, num_cols = chessboard.shape\n",
        "print (num_rows, num_cols)"
      ],
      "metadata": {
        "colab": {
          "base_uri": "https://localhost:8080/"
        },
        "id": "eHXHoB4uDl0g",
        "outputId": "73188d5e-ec4d-42d4-94d1-e9853ed748b4"
      },
      "execution_count": 4,
      "outputs": [
        {
          "output_type": "execute_result",
          "data": {
            "text/plain": [
              "array([255, 255, 255, ...,   0,   0,   0], dtype=uint8)"
            ]
          },
          "metadata": {},
          "execution_count": 4
        },
        {
          "output_type": "stream",
          "name": "stdout",
          "text": [
            "\n",
            "1024 1024\n"
          ]
        }
      ]
    },
    {
      "cell_type": "code",
      "source": [
        "# Define horizontal and vertical Sobel filters\n",
        "\n",
        "filter_h = np.array([[-1, 0, 1], [-2, 0, 2], [-1, 0, 1]])  # You need to fill in the array\n",
        "filter_v = np.array([[-1, -2, -1],[ 0,  0,  0],[ 1,  2,  1]])  # You need to fill in the array\n",
        "\n",
        "print(\"filter_h = \", filter_h)\n",
        "print(\"filter_v = \", filter_v)"
      ],
      "metadata": {
        "id": "rdFzqkyGvVtM",
        "colab": {
          "base_uri": "https://localhost:8080/"
        },
        "outputId": "981213f3-d268-4afc-ed6a-4b66e7c96de8"
      },
      "execution_count": 7,
      "outputs": [
        {
          "output_type": "stream",
          "name": "stdout",
          "text": [
            "filter_h =  [[-1  0  1]\n",
            " [-2  0  2]\n",
            " [-1  0  1]]\n",
            "filter_v =  [[-1 -2 -1]\n",
            " [ 0  0  0]\n",
            " [ 1  2  1]]\n"
          ]
        }
      ]
    },
    {
      "cell_type": "code",
      "source": [
        "def calculate_target_size(img_size: int, kernel_size: int) -> int:\n",
        "    num_pixels = 0\n",
        "    \n",
        "    # From 0 up to img size (if img size = 224, then up to 223)\n",
        "    for i in range(img_size):\n",
        "        # Add the kernel size (let's say 3) to the current i\n",
        "        added = i + kernel_size\n",
        "        # It must be lower than the image size\n",
        "        if added <= img_size:\n",
        "            # Increment if so\n",
        "            num_pixels += 1\n",
        "            \n",
        "    return num_pixels"
      ],
      "metadata": {
        "id": "jHiGG6HWAXRd"
      },
      "execution_count": 8,
      "outputs": []
    },
    {
      "cell_type": "code",
      "source": [
        "# define 2D convolution function\n",
        "def my2Dconvolution(img: np.array, kernel: np.array):\n",
        "  # You need to write your own convolution code\n",
        "  # Do not use any library\n",
        "  # Assuming a rectangular image\n",
        "    tgt_size = calculate_target_size(\n",
        "        img_size=img.shape[0],\n",
        "        kernel_size=kernel.shape[0]\n",
        "    )\n",
        "    # To simplify things\n",
        "    k = kernel.shape[0]\n",
        "    \n",
        "    # 2D array of zeros\n",
        "    convolved_img = np.zeros(shape=(tgt_size, tgt_size))\n",
        "    \n",
        "    # Iterate over the rows\n",
        "    for i in range(tgt_size):\n",
        "        # Iterate over the columns\n",
        "        for j in range(tgt_size):\n",
        "            # img[i, j] = individual pixel value\n",
        "            # Get the current matrix\n",
        "            mat = img[i:i+k, j:j+k]\n",
        "            \n",
        "            # Apply the convolution - element-wise multiplication and summation of the result\n",
        "            # Store the result to i-th row and j-th column of our convolved_img array\n",
        "            convolved_img[i, j] = np.sum(np.multiply(mat, kernel))\n",
        "            \n",
        "    return convolved_img\n"
      ],
      "metadata": {
        "id": "RbLS2EoDyMEe"
      },
      "execution_count": 9,
      "outputs": []
    },
    {
      "cell_type": "code",
      "source": [
        "# Use your own convolution function -- do not use any library function\n",
        "# Convolve with filter_h\n",
        "\n",
        "conv_image_h = my2Dconvolution(kernel=filter_h, img=chessboard)\n",
        "\n",
        "# Show convoluted image\n",
        "fig = plt.figure() # use default display size\n",
        "plt.imshow(conv_image_h, cmap=\"gray\")"
      ],
      "metadata": {
        "id": "Ospww4h_0PI3",
        "colab": {
          "base_uri": "https://localhost:8080/",
          "height": 286
        },
        "outputId": "eaec151e-d611-48ea-bd9b-952cd29bc88e"
      },
      "execution_count": 10,
      "outputs": [
        {
          "output_type": "execute_result",
          "data": {
            "text/plain": [
              "<matplotlib.image.AxesImage at 0x7f4d16af9350>"
            ]
          },
          "metadata": {},
          "execution_count": 10
        },
        {
          "output_type": "display_data",
          "data": {
            "text/plain": [
              "<Figure size 432x288 with 1 Axes>"
            ],
            "image/png": "[encoded data removed]"
          },
          "metadata": {
            "needs_background": "light"
          }
        }
      ]
    },
    {
      "cell_type": "code",
      "source": [
        "# Use your own convolution function -- do not use any library function\n",
        "# Convolve with filter_v\n",
        "\n",
        "conv_image_v = my2Dconvolution(kernel=filter_v, img=chessboard)\n",
        "\n",
        "# Show convoluted image\n",
        "fig = plt.figure() # use default display size\n",
        "plt.imshow(conv_image_v, cmap=\"gray\")"
      ],
      "metadata": {
        "id": "2lQgZZssWEjn",
        "colab": {
          "base_uri": "https://localhost:8080/",
          "height": 286
        },
        "outputId": "9a6ec9bb-1cfa-4be6-de3d-eab491b75265"
      },
      "execution_count": 12,
      "outputs": [
        {
          "output_type": "execute_result",
          "data": {
            "text/plain": [
              "<matplotlib.image.AxesImage at 0x7f4d16ae8b90>"
            ]
          },
          "metadata": {},
          "execution_count": 12
        },
        {
          "output_type": "display_data",
          "data": {
            "text/plain": [
              "<Figure size 432x288 with 1 Axes>"
            ],
            "image/png": "[encoded data removed]"
          },
          "metadata": {
            "needs_background": "light"
          }
        }
      ]
    }
  ]
}